{
 "cells": [
  {
   "cell_type": "code",
   "execution_count": 1,
   "id": "bbec0964",
   "metadata": {},
   "outputs": [],
   "source": [
    "#ROHIL SHARMA 20BDS0269\n",
    "import numpy as np\n",
    "import pandas as pd\n",
    "import matplotlib.pyplot as plt\n",
    "from sklearn.svm import SVC\n",
    "from sklearn.metrics import confusion_matrix, accuracy_score\n",
    "from sklearn.metrics import classification_report\n",
    "import gzip\n",
    "import random"
   ]
  },
  {
   "cell_type": "code",
   "execution_count": 2,
   "id": "8efe13a9",
   "metadata": {},
   "outputs": [],
   "source": [
    "def load_mnist(filename, type, n_datapoints):\n",
    "    image_size = 28\n",
    "    f = gzip.open(filename)\n",
    "    \n",
    "    if(type == 'image'):\n",
    "        f.read(16)    \n",
    "        buf = f.read(n_datapoints * image_size * image_size)\n",
    "        data = np.frombuffer(buf, dtype=np.uint8).astype(np.float32)\n",
    "        data = data.reshape(n_datapoints, image_size*image_size)\n",
    "    elif(type == 'label'):\n",
    "        f.read(8)\n",
    "        buf = f.read(n_datapoints)\n",
    "        data = np.frombuffer(buf, dtype=np.uint8).astype(np.int64)\n",
    "        data = data.reshape(n_datapoints, 1)\n",
    "    return data"
   ]
  },
  {
   "cell_type": "code",
   "execution_count": 3,
   "id": "69295155",
   "metadata": {},
   "outputs": [],
   "source": [
    "train_size = 60000\n",
    "test_size = 10000\n",
    "X = load_mnist(r\"C:\\Users\\rohil\\OneDrive\\Desktop\\DM project\\train-images-idx3-ubyte.gz\", 'image', train_size)\n",
    "y = load_mnist(r\"C:\\Users\\rohil\\OneDrive\\Desktop\\DM project\\train-labels-idx1-ubyte.gz\", 'label', train_size)\n",
    "X_test = load_mnist(r\"C:\\Users\\rohil\\OneDrive\\Desktop\\DM project\\t10k-images-idx3-ubyte.gz\", 'image', test_size)\n",
    "y_test = load_mnist(r\"C:\\Users\\rohil\\OneDrive\\Desktop\\DM project\\t10k-labels-idx1-ubyte.gz\", 'label', test_size)"
   ]
  },
  {
   "cell_type": "code",
   "execution_count": 4,
   "id": "f01f1195",
   "metadata": {},
   "outputs": [],
   "source": [
    "classifier = SVC()"
   ]
  },
  {
   "cell_type": "code",
   "execution_count": 5,
   "id": "723e48c1",
   "metadata": {},
   "outputs": [
    {
     "data": {
      "text/plain": [
       "SVC()"
      ]
     },
     "execution_count": 5,
     "metadata": {},
     "output_type": "execute_result"
    }
   ],
   "source": [
    "import warnings\n",
    "warnings.filterwarnings(\"ignore\")\n",
    "\n",
    "classifier.fit(X, y)"
   ]
  },
  {
   "cell_type": "code",
   "execution_count": 6,
   "id": "e8328187",
   "metadata": {},
   "outputs": [
    {
     "data": {
      "text/plain": [
       "0.9792"
      ]
     },
     "execution_count": 6,
     "metadata": {},
     "output_type": "execute_result"
    }
   ],
   "source": [
    "classifier.score(X_test, y_test)"
   ]
  },
  {
   "cell_type": "code",
   "execution_count": null,
   "id": "71de2acc",
   "metadata": {},
   "outputs": [],
   "source": []
  }
 ],
 "metadata": {
  "kernelspec": {
   "display_name": "Python 3 (ipykernel)",
   "language": "python",
   "name": "python3"
  },
  "language_info": {
   "codemirror_mode": {
    "name": "ipython",
    "version": 3
   },
   "file_extension": ".py",
   "mimetype": "text/x-python",
   "name": "python",
   "nbconvert_exporter": "python",
   "pygments_lexer": "ipython3",
   "version": "3.9.7"
  }
 },
 "nbformat": 4,
 "nbformat_minor": 5
}
